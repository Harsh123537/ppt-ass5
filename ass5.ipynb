{
 "cells": [
  {
   "cell_type": "code",
   "execution_count": 1,
   "id": "66a61c95-594e-49b4-9fb0-f2c215fc4f7b",
   "metadata": {},
   "outputs": [],
   "source": [
    "# Q.1\n",
    "\n",
    "def convert_1d_to_2d(original, m, n):\n",
    "    if m * n != len(original):\n",
    "        return []  # Return empty 2D array if it's impossible\n",
    "    \n",
    "    result = []\n",
    "    for i in range(m):\n",
    "        row = original[i * n:(i + 1) * n]\n",
    "        result.append(row)\n",
    "    \n",
    "    return result\n"
   ]
  },
  {
   "cell_type": "code",
   "execution_count": 2,
   "id": "0a853cbe-773e-4bea-9fe5-442c7d30b09f",
   "metadata": {},
   "outputs": [],
   "source": [
    "# Q.2 \n",
    "\n",
    "import math\n",
    "\n",
    "def complete_staircase_rows(n):\n",
    "    k = math.floor((math.sqrt(8 * n + 1) - 1) / 2)\n",
    "    return k\n"
   ]
  },
  {
   "cell_type": "code",
   "execution_count": 3,
   "id": "c28bfed3-3844-4a69-b612-37de0c11ca3b",
   "metadata": {},
   "outputs": [],
   "source": [
    "# Q.3\n",
    "\n",
    "def sortedSquares(nums):\n",
    "    result = []\n",
    "    for num in nums:\n",
    "        result.append(num * num)\n",
    "    result.sort()\n",
    "    return result\n"
   ]
  },
  {
   "cell_type": "code",
   "execution_count": 4,
   "id": "98435d7f-a3cf-47e1-b149-6b42359a35ce",
   "metadata": {},
   "outputs": [],
   "source": [
    "# Q.4\n",
    "\n",
    "def findDisjoint(nums1, nums2):\n",
    "    set1 = set(nums1)\n",
    "    set2 = set(nums2)\n",
    "    \n",
    "    distinct_nums1 = list(set1 - set2)\n",
    "    distinct_nums2 = list(set2 - set1)\n",
    "    \n",
    "    return [distinct_nums1, distinct_nums2]\n"
   ]
  },
  {
   "cell_type": "code",
   "execution_count": 5,
   "id": "e0cde282-1ae9-4fb1-a833-7f2cec35ac38",
   "metadata": {},
   "outputs": [],
   "source": [
    "# Q.5\n",
    "\n",
    "def distanceValue(arr1, arr2, d):\n",
    "    distance = 0\n",
    "    for num1 in arr1:\n",
    "        for num2 in arr2:\n",
    "            if abs(num1 - num2) <= d:\n",
    "                break\n",
    "        else:\n",
    "            distance += 1\n",
    "    return distance\n"
   ]
  },
  {
   "cell_type": "code",
   "execution_count": 6,
   "id": "a8a0f6c0-6cc7-4c09-8bcb-021c673243d1",
   "metadata": {},
   "outputs": [],
   "source": [
    "# Q.6\n",
    "\n",
    "def findDuplicates(nums):\n",
    "    result = []\n",
    "    for num in nums:\n",
    "        index = abs(num) - 1\n",
    "        if nums[index] > 0:\n",
    "            nums[index] *= -1\n",
    "        else:\n",
    "            result.append(abs(num))\n",
    "    return result\n"
   ]
  },
  {
   "cell_type": "code",
   "execution_count": 7,
   "id": "67c037d2-913f-4b04-a07d-b9cf7fc923be",
   "metadata": {},
   "outputs": [],
   "source": [
    "# Q.7\n",
    "\n",
    "def findMin(nums):\n",
    "    left, right = 0, len(nums) - 1\n",
    "\n",
    "    while left < right:\n",
    "        mid = left + (right - left) // 2\n",
    "\n",
    "        if nums[mid] > nums[right]:\n",
    "            left = mid + 1\n",
    "        else:\n",
    "            right = mid\n",
    "\n",
    "    return nums[left]\n"
   ]
  },
  {
   "cell_type": "code",
   "execution_count": 8,
   "id": "d5835adb-2299-495b-8a2f-8813b816f964",
   "metadata": {},
   "outputs": [],
   "source": [
    "# Q.8\n",
    "\n",
    "def findOriginalArray(changed):\n",
    "    count = {}\n",
    "    for num in changed:\n",
    "        count[num] = count.get(num, 0) + 1\n",
    "\n",
    "    original = []\n",
    "    for num in changed:\n",
    "        if count[num] == 0:\n",
    "            continue\n",
    "        count[num] -= 1\n",
    "        if count.get(2 * num, 0) == 0:\n",
    "            return []\n",
    "        count[2 * num] -= 1\n",
    "        original.append(num)\n",
    "\n",
    "    return original\n"
   ]
  },
  {
   "cell_type": "code",
   "execution_count": null,
   "id": "cb36421a-1364-41e5-92e4-8f7a182b26dc",
   "metadata": {},
   "outputs": [],
   "source": []
  }
 ],
 "metadata": {
  "kernelspec": {
   "display_name": "Python 3 (ipykernel)",
   "language": "python",
   "name": "python3"
  },
  "language_info": {
   "codemirror_mode": {
    "name": "ipython",
    "version": 3
   },
   "file_extension": ".py",
   "mimetype": "text/x-python",
   "name": "python",
   "nbconvert_exporter": "python",
   "pygments_lexer": "ipython3",
   "version": "3.10.8"
  }
 },
 "nbformat": 4,
 "nbformat_minor": 5
}
